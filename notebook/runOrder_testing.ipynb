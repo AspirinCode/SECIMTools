{
 "cells": [
  {
   "cell_type": "code",
   "execution_count": 1,
   "metadata": {
    "collapsed": true
   },
   "outputs": [],
   "source": [
    "import numpy as np\n",
    "import pandas as pd\n",
    "import pickle as pickle\n",
    "import statsmodels.api as sm\n",
    "import statsmodels.formula.api as smf\n",
    "import matplotlib.pyplot as plt\n",
    "%matplotlib inline\n",
    "%load_ext autoreload\n",
    "%autoreload 2"
   ]
  },
  {
   "cell_type": "code",
   "execution_count": 57,
   "metadata": {
    "collapsed": false
   },
   "outputs": [],
   "source": [
    "import sys\n",
    "sys.path.append('/home/jfear/devel/GalaxyTools')\n",
    "from runOrderRegression import *"
   ]
  },
  {
   "cell_type": "code",
   "execution_count": 3,
   "metadata": {
    "collapsed": true
   },
   "outputs": [],
   "source": [
    "%qtconsole"
   ]
  },
  {
   "cell_type": "code",
   "execution_count": 5,
   "metadata": {
    "collapsed": false
   },
   "outputs": [],
   "source": [
    "trans = pickle.load(open('/home/jfear/tmp/trans.pkl', 'rb'))"
   ]
  },
  {
   "cell_type": "code",
   "execution_count": 54,
   "metadata": {
    "collapsed": true
   },
   "outputs": [],
   "source": [
    "result = trans.apply(runOrder, axis=0)"
   ]
  },
  {
   "cell_type": "code",
   "execution_count": 71,
   "metadata": {
    "collapsed": false
   },
   "outputs": [
    {
     "data": {
      "image/png": "[encoded data removed]",
      "text/plain": [
       "<matplotlib.figure.Figure at 0x7f6ab45d7950>"
      ]
     },
     "metadata": {},
     "output_type": "display_data"
    }
   ],
   "source": [
    "row = result[11]\n",
    "name, x, y, res = row\n",
    "fitted = res.fittedvalues\n",
    "\n",
    "# Get slope and p-value\n",
    "slope = res.params['run']\n",
    "pval = res.pvalues['run']\n",
    "rsq = res.rsquared\n",
    "\n",
    "# Make Flag based on p-value\n",
    "flag_runOrder_pval_05 = flagPval(pval, 0.05)\n",
    "flag_runOrder_pval_01 = flagPval(pval, 0.01)\n",
    "\n",
    "# Make scatter plot if p-pvalue is less than 0.05\n",
    "if flag_runOrder_pval_05 == 1:\n",
    "    # Get 95% CI\n",
    "    prstd, lower, upper = wls_prediction_std(res)\n",
    "\n",
    "    # Sort CIs for Plotting\n",
    "    toPlot = pd.DataFrame({'x': x, 'lower': lower, 'upper': upper})\n",
    "    toPlot.sort(columns='x', inplace=True)\n",
    "\n",
    "    # Plot\n",
    "    fig, ax = plt.subplots(1, 1, figsize=(8, 5))\n",
    "    ax.scatter(x, y)\n",
    "    ax.set_ylim(18, 23)\n",
    "    ax.plot(toPlot['x'], toPlot['lower'], 'r-')\n",
    "    ax.plot(x, fitted, 'c-')\n",
    "    ax.plot(toPlot['x'], toPlot['upper'], 'r-')\n",
    "    ax.set_xlabel('Run Order')\n",
    "    ax.set_ylabel('Value')\n",
    "    ax.set_title(u'Tyrosine\\nScatter plot')\n",
    "    ax.text(.7, .8, u'Slope: {0:.4f}\\n(p-value = {1:.4f})\\nR^2: {2:4f}'.format(slope, pval, rsq),\n",
    "            transform=ax.transAxes, fontsize=12)\n",
    "\n",
    "    fig.savefig('/home/jfear/devel/GalaxyTools/images/runOrder_plot.png')"
   ]
  },
  {
   "cell_type": "code",
   "execution_count": null,
   "metadata": {
    "collapsed": true
   },
   "outputs": [],
   "source": []
  }
 ],
 "metadata": {
  "kernelspec": {
   "display_name": "Python 2",
   "language": "python",
   "name": "python2"
  },
  "language_info": {
   "codemirror_mode": {
    "name": "ipython",
    "version": 2
   },
   "file_extension": ".py",
   "mimetype": "text/x-python",
   "name": "python",
   "nbconvert_exporter": "python",
   "pygments_lexer": "ipython2",
   "version": "2.7.6"
  }
 },
 "nbformat": 4,
 "nbformat_minor": 0
}
