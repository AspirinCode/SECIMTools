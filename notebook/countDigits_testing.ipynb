{
 "cells": [
  {
   "cell_type": "code",
   "execution_count": 4,
   "metadata": {
    "code_folding": [
     0
    ],
    "collapsed": true
   },
   "outputs": [],
   "source": [
    "%qtconsole\n",
    "%load_ext autoreload\n",
    "%autoreload 2\n",
    "%load_ext ipycache"
   ]
  },
  {
   "cell_type": "code",
   "execution_count": 5,
   "metadata": {
    "code_folding": [],
    "collapsed": true
   },
   "outputs": [],
   "source": [
    "import sys\n",
    "sys.path.append('/home/jfear/devel/GalaxyTools')"
   ]
  },
  {
   "cell_type": "code",
   "execution_count": 6,
   "metadata": {
    "collapsed": false
   },
   "outputs": [],
   "source": [
    "from countDigits import *\n",
    "%matplotlib inline"
   ]
  },
  {
   "cell_type": "markdown",
   "metadata": {},
   "source": [
    "Grab the command line options"
   ]
  },
  {
   "cell_type": "code",
   "execution_count": 45,
   "metadata": {
    "code_folding": [],
    "collapsed": false
   },
   "outputs": [],
   "source": [
    "myopts = ['--input', '/home/jfear/tmp/tmp.Ckn6wyHM9e',\n",
    "          '--design', '/home/jfear/tmp/tmp.eto3VJfeZT',\n",
    "          '--ID', 'NameJMF',\n",
    "          '--out', '/home/jfear/sandbox/secim/data/test_cnts_table.tsv',\n",
    "          '--summary', '/home/jfear/sandbox/secim/data/test_cnts_summary.tsv',\n",
    "          '--fig', '/home/jfear/sandbox/secim/data/test_cnts.pdf',\n",
    "          '--debug']\n",
    "\n",
    "args = getOptions(myopts=myopts)"
   ]
  },
  {
   "cell_type": "code",
   "execution_count": 46,
   "metadata": {
    "collapsed": false
   },
   "outputs": [],
   "source": [
    "dat = wideToDesign(args.fname, args.dname, args.uniqID)\n",
    "\n",
    "# Only interested in samples\n",
    "wide = dat.wide[dat.sampleIDs]\n",
    "\n",
    "# Count the number of digits before decimal and get basic distribution info\n",
    "cnt = wide.applymap(lambda x: splitDigit(x))\n",
    "cnt['min'] = cnt.apply(np.min, axis=1)\n",
    "cnt['max'] = cnt.apply(np.max, axis=1)\n",
    "cnt['diff'] = cnt['max'] - cnt['min']\n",
    "cnt['argMax'] = cnt[dat.sampleIDs].apply(np.argmax, axis=1)\n",
    "cnt['argMin'] = cnt[dat.sampleIDs].apply(np.argmin, axis=1)"
   ]
  },
  {
   "cell_type": "code",
   "execution_count": null,
   "metadata": {
    "collapsed": true
   },
   "outputs": [],
   "source": []
  }
 ],
 "metadata": {
  "kernelspec": {
   "display_name": "Python 2",
   "language": "python",
   "name": "python2"
  },
  "language_info": {
   "codemirror_mode": {
    "name": "ipython",
    "version": 2
   },
   "file_extension": ".py",
   "mimetype": "text/x-python",
   "name": "python",
   "nbconvert_exporter": "python",
   "pygments_lexer": "ipython2",
   "version": "2.7.6"
  }
 },
 "nbformat": 4,
 "nbformat_minor": 0
}
