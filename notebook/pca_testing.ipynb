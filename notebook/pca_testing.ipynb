{
 "cells": [
  {
   "cell_type": "code",
   "execution_count": 31,
   "metadata": {
    "collapsed": false
   },
   "outputs": [],
   "source": [
    "import pandas as pd\n",
    "import rpy2.robjects as ro\n",
    "import rpy2.rinterface as ri"
   ]
  },
  {
   "cell_type": "code",
   "execution_count": 2,
   "metadata": {
    "collapsed": true
   },
   "outputs": [],
   "source": [
    "%qtconsole"
   ]
  },
  {
   "cell_type": "code",
   "execution_count": 8,
   "metadata": {
    "collapsed": false
   },
   "outputs": [],
   "source": [
    "dat = pd.read_table('/home/jfear/sandbox/secim/data/QE2_mdw_8_NEG_Peak_List_PA_preprocess_20150507_log.tsv')\n",
    "dat.set_index('rowID', inplace=True)"
   ]
  },
  {
   "cell_type": "code",
   "execution_count": 10,
   "metadata": {
    "collapsed": true
   },
   "outputs": [],
   "source": [
    "import pandas.rpy.common as com"
   ]
  },
  {
   "cell_type": "code",
   "execution_count": 11,
   "metadata": {
    "collapsed": true
   },
   "outputs": [],
   "source": [
    "r_df = com.convert_to_r_dataframe(dat)"
   ]
  },
  {
   "cell_type": "code",
   "execution_count": 35,
   "metadata": {
    "collapsed": false
   },
   "outputs": [],
   "source": [
    "rna = ro.r['na.exclude']\n",
    "rprincomp = ro.r['princomp']\n",
    "rsummary = ro.r['summary']"
   ]
  },
  {
   "cell_type": "code",
   "execution_count": 37,
   "metadata": {
    "collapsed": false
   },
   "outputs": [],
   "source": [
    "res = rprincomp(rna(r_df), cor=ri.TRUE)\n",
    "summary = rsummary(res, loadings=ri.TRUE)"
   ]
  },
  {
   "cell_type": "code",
   "execution_count": 21,
   "metadata": {
    "collapsed": false
   },
   "outputs": [],
   "source": [
    "princomp = robjects.r['princomp']\n",
    "ex = robjects.r['na.exclude']"
   ]
  },
  {
   "cell_type": "code",
   "execution_count": 22,
   "metadata": {
    "collapsed": false
   },
   "outputs": [
    {
     "data": {
      "text/plain": [
       "<ListVector - Python:0x7ffdce2e6560 / R:0x3af5f98>\n",
       "[Float..., Matrix, Float..., ..., IntVe..., Matrix, Vector]\n",
       "  sdev: <class 'rpy2.robjects.vectors.FloatVector'>\n",
       "  <FloatVector - Python:0x7ffdce2e65f0 / R:0x348c8c0>\n",
       "[9.562788, 2.041894, 1.415182, ..., 0.328240, 0.274708, 0.254402]\n",
       "  loadings: <class 'rpy2.robjects.vectors.Matrix'>\n",
       "  <Matrix - Python:0x7ffdce2e6950 / R:0x3aac1e0>\n",
       "[-0.200074, -0.200064, -0.192612, ..., 0.770627, -0.257402, -0.507166]\n",
       "  center: <class 'rpy2.robjects.vectors.FloatVector'>\n",
       "  <FloatVector - Python:0x7ffdce2eb050 / R:0x3227960>\n",
       "[14.180992, 14.217097, 14.375940, ..., 14.407639, 14.390517, 14.366805]\n",
       "  ...\n",
       "  sdev: <class 'rpy2.robjects.vectors.IntVector'>\n",
       "  <IntVector - Python:0x7ffdce2eb2d8 / R:0x3f0b848>\n",
       "[    2396]\n",
       "  loadings: <class 'rpy2.robjects.vectors.Matrix'>\n",
       "  <Matrix - Python:0x7ffdce2eb3f8 / R:0x4600c50>\n",
       "[-40.770499, -39.089954, -39.112587, ..., 0.468557, 0.505279, -0.678847]\n",
       "  center: <class 'rpy2.robjects.vectors.Vector'>\n",
       "  <Vector - Python:0x7ffdce2eb368 / R:0x3efd480>\n",
       "[RNULLType, Vector]"
      ]
     },
     "execution_count": 22,
     "metadata": {},
     "output_type": "execute_result"
    }
   ],
   "source": [
    "princomp(ex(r_df), )"
   ]
  },
  {
   "cell_type": "code",
   "execution_count": 23,
   "metadata": {
    "collapsed": false
   },
   "outputs": [
    {
     "ename": "AttributeError",
     "evalue": "'module' object has no attribute 'princomp'",
     "output_type": "error",
     "traceback": [
      "\u001b[1;31m---------------------------------------------------------------------------\u001b[0m",
      "\u001b[1;31mAttributeError\u001b[0m                            Traceback (most recent call last)",
      "\u001b[1;32m<ipython-input-23-fe23d7f6f01c>\u001b[0m in \u001b[0;36m<module>\u001b[1;34m()\u001b[0m\n\u001b[1;32m----> 1\u001b[1;33m \u001b[0mrobjects\u001b[0m\u001b[1;33m.\u001b[0m\u001b[0mprincomp\u001b[0m\u001b[1;33m(\u001b[0m\u001b[0mex\u001b[0m\u001b[1;33m(\u001b[0m\u001b[0mr_df\u001b[0m\u001b[1;33m)\u001b[0m\u001b[1;33m)\u001b[0m\u001b[1;33m\u001b[0m\u001b[0m\n\u001b[0m",
      "\u001b[1;31mAttributeError\u001b[0m: 'module' object has no attribute 'princomp'"
     ]
    }
   ],
   "source": [
    "robjects.princomp(ex(r_df))"
   ]
  },
  {
   "cell_type": "code",
   "execution_count": null,
   "metadata": {
    "collapsed": true
   },
   "outputs": [],
   "source": []
  }
 ],
 "metadata": {
  "kernelspec": {
   "display_name": "Python 2",
   "language": "python",
   "name": "python2"
  },
  "language_info": {
   "codemirror_mode": {
    "name": "ipython",
    "version": 2
   },
   "file_extension": ".py",
   "mimetype": "text/x-python",
   "name": "python",
   "nbconvert_exporter": "python",
   "pygments_lexer": "ipython2",
   "version": "2.7.6"
  }
 },
 "nbformat": 4,
 "nbformat_minor": 0
}
